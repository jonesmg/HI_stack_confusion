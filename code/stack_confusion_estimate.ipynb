{
 "cells": [
  {
   "cell_type": "code",
   "execution_count": 1,
   "metadata": {
    "collapsed": true
   },
   "outputs": [],
   "source": [
    "import numpy\n",
    "from general_functions import *"
   ]
  },
  {
   "cell_type": "code",
   "execution_count": 2,
   "metadata": {
    "collapsed": false
   },
   "outputs": [],
   "source": [
    "#Stack redshift\n",
    "z_stack = 0.25\n",
    "\n",
    "#Stack cutout physical diameter at z_stack\n",
    "size = 150. #kpc\n",
    "\n",
    "#Velocity window flux will be summed over\n",
    "#+/- this value will be used\n",
    "v_win = 300. #km/s"
   ]
  },
  {
   "cell_type": "code",
   "execution_count": 3,
   "metadata": {
    "collapsed": false
   },
   "outputs": [
    {
     "name": "stdout",
     "output_type": "stream",
     "text": [
      "Expected HI mass in stack due to confusion:\n",
      "log (MHI/Msol) = 8.37261771145\n"
     ]
    }
   ],
   "source": [
    "#Calculate effective volume including the\n",
    "#impact of clustering of HI galaxies\n",
    "v_eff = m_av_mod(v_win/H0,size/2000.)\n",
    "\n",
    "#Assume no evolution in Omega_HI\n",
    "#Note: This is the cosmology definition\n",
    "#i.e. rho_HI/rho_c, not rho_HI/rho_c,0\n",
    "z_evo = E(z_stack)**2.\n",
    "\n",
    "print \"Expected HI mass in stack due to confusion:\"\n",
    "print \"log (MHI/Msol) =\",numpy.log10(z_evo*v_eff*rho_HI_0)"
   ]
  }
 ],
 "metadata": {
  "kernelspec": {
   "display_name": "Python [Root]",
   "language": "python",
   "name": "Python [Root]"
  },
  "language_info": {
   "codemirror_mode": {
    "name": "ipython",
    "version": 2
   },
   "file_extension": ".py",
   "mimetype": "text/x-python",
   "name": "python",
   "nbconvert_exporter": "python",
   "pygments_lexer": "ipython2",
   "version": "2.7.12"
  }
 },
 "nbformat": 4,
 "nbformat_minor": 0
}
